{
 "cells": [
  {
   "cell_type": "code",
   "execution_count": 1,
   "metadata": {},
   "outputs": [],
   "source": [
    "import os\n",
    "import svglib\n",
    "from svglib.svglib import svg2rlg\n",
    "from reportlab.graphics import renderPM\n",
    "from PIL import Image"
   ]
  },
  {
   "cell_type": "code",
   "execution_count": 2,
   "metadata": {},
   "outputs": [],
   "source": [
    "# Converting SVG to PNG files\n",
    "filepath = r\"C:\\Users\\shiva\\Kuzushiji-Kanji\\kanjivgsvg\\kanjibig\" #your filepath containing SVG files\n",
    "filelist = os.listdir(filepath)\n",
    "\n",
    "for image in filelist:\n",
    "    drawing = svg2rlg(os.path.join(filepath, image))\n",
    "    renderPM.drawToFile(drawing, image.strip('.svg') + \".png\", fmt=\"PNG\")"
   ]
  },
  {
   "cell_type": "code",
   "execution_count": 2,
   "metadata": {},
   "outputs": [],
   "source": [
    "# Pre-processing the converted PNG images to desired format\n",
    "filepath = r\"C:\\Users\\shiva\\Kuzushiji-Kanji\\kanjivgpixel\" #your filepath consisting of PNG images \n",
    "filelist = os.listdir(filepath)\n",
    "\n",
    "for image in filelist:\n",
    "    imageloc = os.path.join(filepath, image)\n",
    "    f = Image.open(imageloc, 'r')\n",
    "    f = f.convert(mode='L')\n",
    "    f = f.resize((28,28))\n",
    "    f.save(image)"
   ]
  },
  {
   "cell_type": "code",
   "execution_count": null,
   "metadata": {},
   "outputs": [],
   "source": []
  }
 ],
 "metadata": {
  "kernelspec": {
   "display_name": "Python 3",
   "language": "python",
   "name": "python3"
  },
  "language_info": {
   "codemirror_mode": {
    "name": "ipython",
    "version": 3
   },
   "file_extension": ".py",
   "mimetype": "text/x-python",
   "name": "python",
   "nbconvert_exporter": "python",
   "pygments_lexer": "ipython3",
   "version": "3.7.1"
  }
 },
 "nbformat": 4,
 "nbformat_minor": 2
}
